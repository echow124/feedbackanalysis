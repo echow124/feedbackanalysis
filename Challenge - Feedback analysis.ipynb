{
 "cells": [
  {
   "cell_type": "code",
   "execution_count": 135,
   "metadata": {},
   "outputs": [
    {
     "name": "stdout",
     "output_type": "stream",
     "text": [
      "                                                   0  1\n",
      "0  So there is no way for me to plug it in here i...  0\n",
      "1                        Good case, Excellent value.  1\n",
      "2                             Great for the jawbone.  1\n",
      "3  Tied to charger for conversations lasting more...  0\n",
      "4                                  The mic is great.  1\n"
     ]
    }
   ],
   "source": [
    "%matplotlib inline\n",
    "import numpy as np\n",
    "import pandas as pd\n",
    "import scipy\n",
    "import sklearn\n",
    "import matplotlib.pyplot as plt\n",
    "import seaborn as sns\n",
    "\n",
    "data_path = ('sentiment labelled sentences/amazon_cells_labelled.txt')\n",
    "sms_raw = pd.read_csv(data_path, delimiter= '\\t', header=None)\n",
    "print(sms_raw.head())"
   ]
  },
  {
   "cell_type": "code",
   "execution_count": 136,
   "metadata": {},
   "outputs": [
    {
     "name": "stdout",
     "output_type": "stream",
     "text": [
      "                                                review  rating\n",
      "0    So there is no way for me to plug it in here i...       0\n",
      "1                          Good case, Excellent value.       1\n",
      "2                               Great for the jawbone.       1\n",
      "3    Tied to charger for conversations lasting more...       0\n",
      "4                                    The mic is great.       1\n",
      "5    I have to jiggle the plug to get it to line up...       0\n",
      "6    If you have several dozen or several hundred c...       0\n",
      "7          If you are Razr owner...you must have this!       1\n",
      "8                  Needless to say, I wasted my money.       0\n",
      "9                     What a waste of money and time!.       0\n",
      "10                     And the sound quality is great.       1\n",
      "11   He was very impressed when going from the orig...       1\n",
      "12   If the two were seperated by a mere 5+ ft I st...       0\n",
      "13                            Very good quality though       1\n",
      "14   The design is very odd, as the ear \"clip\" is n...       0\n",
      "15   Highly recommend for any one who has a blue to...       1\n",
      "16                 I advise EVERYONE DO NOT BE FOOLED!       0\n",
      "17                                    So Far So Good!.       1\n",
      "18                                       Works great!.       1\n",
      "19   It clicks into place in a way that makes you w...       0\n",
      "20   I went on Motorola's website and followed all ...       0\n",
      "21   I bought this to use with my Kindle Fire and a...       1\n",
      "22            The commercials are the most misleading.       0\n",
      "23   I have yet to run this new battery below two b...       1\n",
      "24   I bought it for my mother and she had a proble...       0\n",
      "25                Great Pocket PC / phone combination.       1\n",
      "26   I've owned this phone for 7 months now and can...       1\n",
      "27   I didn't think that the instructions provided ...       0\n",
      "28   People couldnt hear me talk and I had to pull ...       0\n",
      "29                                Doesn't hold charge.       0\n",
      "..                                                 ...     ...\n",
      "970  I plugged it in only to find out not a darn th...       0\n",
      "971                                 Excellent product.       1\n",
      "972                        Earbud piece breaks easily.       0\n",
      "973                                     Lousy product.       0\n",
      "974  This phone tries very hard to do everything bu...       0\n",
      "975  It is the best charger I have seen on the mark...       1\n",
      "976                                  SWEETEST PHONE!!!       1\n",
      "977             :-)Oh, the charger seems to work fine.       1\n",
      "978  It fits so securely that the ear hook does not...       1\n",
      "979                                 Not enough volume.       0\n",
      "980                Echo Problem....Very unsatisfactory       0\n",
      "981  you could only take 2 videos at a time and the...       0\n",
      "982                            don't waste your money.       0\n",
      "983  I am going to have to be the first to negative...       0\n",
      "984  Adapter does not provide enough charging current.       0\n",
      "985  There was so much hype over this phone that I ...       0\n",
      "986  You also cannot take pictures with it in the c...       0\n",
      "987                            Phone falls out easily.       0\n",
      "988  It didn't work, people can not hear me when I ...       0\n",
      "989  The text messaging feature is really tricky to...       0\n",
      "990  I'm really disappointed all I have now is a ch...       0\n",
      "991                                Painful on the ear.       0\n",
      "992                   Lasted one day and then blew up.       0\n",
      "993                                      disappointed.       0\n",
      "994                              Kind of flops around.       0\n",
      "995  The screen does get smudged easily because it ...       0\n",
      "996  What a piece of junk.. I lose more calls on th...       0\n",
      "997                       Item Does Not Match Picture.       0\n",
      "998  The only thing that disappoint me is the infra...       0\n",
      "999  You can not answer calls with the unit, never ...       0\n",
      "\n",
      "[1000 rows x 2 columns]\n"
     ]
    }
   ],
   "source": [
    "sms_raw.columns = ['review', 'rating']\n",
    "print(sms_raw)"
   ]
  },
  {
   "cell_type": "code",
   "execution_count": 137,
   "metadata": {},
   "outputs": [],
   "source": [
    "sms_raw['review'] = sms_raw['review'].astype('str')\n",
    "sms_raw['rating'] = sms_raw['rating'].astype('bool')"
   ]
  },
  {
   "cell_type": "code",
   "execution_count": 138,
   "metadata": {},
   "outputs": [
    {
     "name": "stdout",
     "output_type": "stream",
     "text": [
      "                                                review  rating   best   good  \\\n",
      "0    So there is no way for me to plug it in here i...   False  False  False   \n",
      "1                          Good case, Excellent value.    True  False  False   \n",
      "2                               Great for the jawbone.    True  False  False   \n",
      "3    Tied to charger for conversations lasting more...   False  False  False   \n",
      "4                                    The mic is great.    True  False  False   \n",
      "5    I have to jiggle the plug to get it to line up...   False  False  False   \n",
      "6    If you have several dozen or several hundred c...   False  False  False   \n",
      "7          If you are Razr owner...you must have this!    True  False  False   \n",
      "8                  Needless to say, I wasted my money.   False  False  False   \n",
      "9                     What a waste of money and time!.   False  False  False   \n",
      "10                     And the sound quality is great.    True  False  False   \n",
      "11   He was very impressed when going from the orig...    True  False  False   \n",
      "12   If the two were seperated by a mere 5+ ft I st...   False  False  False   \n",
      "13                            Very good quality though    True  False   True   \n",
      "14   The design is very odd, as the ear \"clip\" is n...   False  False  False   \n",
      "15   Highly recommend for any one who has a blue to...    True  False  False   \n",
      "16                 I advise EVERYONE DO NOT BE FOOLED!   False  False  False   \n",
      "17                                    So Far So Good!.    True  False  False   \n",
      "18                                       Works great!.    True  False  False   \n",
      "19   It clicks into place in a way that makes you w...   False  False  False   \n",
      "20   I went on Motorola's website and followed all ...   False  False  False   \n",
      "21   I bought this to use with my Kindle Fire and a...    True  False  False   \n",
      "22            The commercials are the most misleading.   False  False  False   \n",
      "23   I have yet to run this new battery below two b...    True  False  False   \n",
      "24   I bought it for my mother and she had a proble...   False  False  False   \n",
      "25                Great Pocket PC / phone combination.    True  False  False   \n",
      "26   I've owned this phone for 7 months now and can...    True   True  False   \n",
      "27   I didn't think that the instructions provided ...   False  False  False   \n",
      "28   People couldnt hear me talk and I had to pull ...   False  False  False   \n",
      "29                                Doesn't hold charge.   False  False  False   \n",
      "..                                                 ...     ...    ...    ...   \n",
      "970  I plugged it in only to find out not a darn th...   False  False  False   \n",
      "971                                 Excellent product.    True  False  False   \n",
      "972                        Earbud piece breaks easily.   False  False  False   \n",
      "973                                     Lousy product.   False  False  False   \n",
      "974  This phone tries very hard to do everything bu...   False  False  False   \n",
      "975  It is the best charger I have seen on the mark...    True   True  False   \n",
      "976                                  SWEETEST PHONE!!!    True  False  False   \n",
      "977             :-)Oh, the charger seems to work fine.    True  False  False   \n",
      "978  It fits so securely that the ear hook does not...    True  False  False   \n",
      "979                                 Not enough volume.   False  False  False   \n",
      "980                Echo Problem....Very unsatisfactory   False  False  False   \n",
      "981  you could only take 2 videos at a time and the...   False  False  False   \n",
      "982                            don't waste your money.   False  False  False   \n",
      "983  I am going to have to be the first to negative...   False  False  False   \n",
      "984  Adapter does not provide enough charging current.   False  False  False   \n",
      "985  There was so much hype over this phone that I ...   False  False  False   \n",
      "986  You also cannot take pictures with it in the c...   False  False  False   \n",
      "987                            Phone falls out easily.   False  False  False   \n",
      "988  It didn't work, people can not hear me when I ...   False  False  False   \n",
      "989  The text messaging feature is really tricky to...   False  False  False   \n",
      "990  I'm really disappointed all I have now is a ch...   False  False  False   \n",
      "991                                Painful on the ear.   False  False  False   \n",
      "992                   Lasted one day and then blew up.   False  False  False   \n",
      "993                                      disappointed.   False  False  False   \n",
      "994                              Kind of flops around.   False  False  False   \n",
      "995  The screen does get smudged easily because it ...   False  False  False   \n",
      "996  What a piece of junk.. I lose more calls on th...   False  False  False   \n",
      "997                       Item Does Not Match Picture.   False  False  False   \n",
      "998  The only thing that disappoint me is the infra...   False  False  False   \n",
      "999  You can not answer calls with the unit, never ...   False  False  False   \n",
      "\n",
      "     very good  recommend  great  excellent   well  highly recommend    buy  \n",
      "0        False      False  False      False  False             False  False  \n",
      "1        False      False  False       True  False             False  False  \n",
      "2        False      False  False      False  False             False  False  \n",
      "3        False      False  False      False  False             False  False  \n",
      "4        False      False  False      False  False             False  False  \n",
      "5        False      False  False      False  False             False  False  \n",
      "6        False      False  False      False  False             False  False  \n",
      "7        False      False  False      False  False             False  False  \n",
      "8        False      False  False      False  False             False  False  \n",
      "9        False      False  False      False  False             False  False  \n",
      "10       False      False  False      False  False             False  False  \n",
      "11       False      False  False      False  False             False  False  \n",
      "12       False      False  False      False  False             False  False  \n",
      "13       False      False  False      False  False             False  False  \n",
      "14       False      False  False      False  False             False  False  \n",
      "15       False       True  False      False  False             False  False  \n",
      "16       False      False  False      False  False             False  False  \n",
      "17       False      False  False      False  False             False  False  \n",
      "18       False      False  False      False  False             False  False  \n",
      "19       False      False  False      False  False             False  False  \n",
      "20       False      False  False      False  False             False  False  \n",
      "21       False      False  False      False  False             False  False  \n",
      "22       False      False  False      False  False             False  False  \n",
      "23       False      False  False      False  False             False  False  \n",
      "24       False      False  False      False  False             False  False  \n",
      "25       False      False  False      False  False             False  False  \n",
      "26       False      False  False      False  False             False  False  \n",
      "27       False      False  False      False  False             False  False  \n",
      "28       False      False  False      False  False             False  False  \n",
      "29       False      False  False      False  False             False  False  \n",
      "..         ...        ...    ...        ...    ...               ...    ...  \n",
      "970      False      False  False      False  False             False  False  \n",
      "971      False      False  False      False  False             False  False  \n",
      "972      False      False  False      False  False             False  False  \n",
      "973      False      False  False      False  False             False  False  \n",
      "974      False      False  False      False  False             False  False  \n",
      "975      False      False  False      False  False             False  False  \n",
      "976      False      False  False      False  False             False  False  \n",
      "977      False      False  False      False  False             False  False  \n",
      "978      False      False  False      False  False             False  False  \n",
      "979      False      False  False      False  False             False  False  \n",
      "980      False      False  False      False  False             False  False  \n",
      "981      False      False  False      False  False             False  False  \n",
      "982      False      False  False      False  False             False  False  \n",
      "983      False      False  False      False  False             False  False  \n",
      "984      False      False  False      False  False             False  False  \n",
      "985      False      False  False      False  False             False  False  \n",
      "986      False      False  False      False  False             False  False  \n",
      "987      False      False  False      False  False             False  False  \n",
      "988      False      False  False      False  False             False  False  \n",
      "989      False      False  False      False  False             False  False  \n",
      "990      False      False  False      False  False             False  False  \n",
      "991      False      False  False      False  False             False  False  \n",
      "992      False      False  False      False  False             False  False  \n",
      "993      False      False  False      False  False             False  False  \n",
      "994      False      False  False      False  False             False  False  \n",
      "995      False      False  False      False  False             False  False  \n",
      "996      False      False  False      False  False             False  False  \n",
      "997      False      False  False      False  False             False  False  \n",
      "998      False      False  False      False  False             False  False  \n",
      "999      False      False  False      False  False             False  False  \n",
      "\n",
      "[1000 rows x 11 columns]\n"
     ]
    }
   ],
   "source": [
    "#write 30 features and check correlation - eliminate any that are not strongly \n",
    "#correlated\n",
    "keywords = ['best', 'good', 'very good', 'recommend', 'great', 'excellent', 'well', 'highly recommend']\n",
    "\n",
    "for key in keywords:\n",
    "    sms_raw[str(key)] = sms_raw['review'].astype('str').str.contains(\n",
    "        ' ' + str(key) + ' ',\n",
    "        case=False\n",
    "    )\n",
    "\n",
    "print(sms_raw)"
   ]
  },
  {
   "cell_type": "code",
   "execution_count": 139,
   "metadata": {},
   "outputs": [
    {
     "data": {
      "text/plain": [
       "<matplotlib.axes._subplots.AxesSubplot at 0x166062f0>"
      ]
     },
     "execution_count": 139,
     "metadata": {},
     "output_type": "execute_result"
    },
    {
     "data": {
      "image/png": "[encoded data removed]",
      "text/plain": [
       "<Figure size 432x288 with 2 Axes>"
      ]
     },
     "metadata": {
      "needs_background": "light"
     },
     "output_type": "display_data"
    }
   ],
   "source": [
    "sns.heatmap(sms_raw.corr())"
   ]
  },
  {
   "cell_type": "code",
   "execution_count": 140,
   "metadata": {},
   "outputs": [
    {
     "name": "stdout",
     "output_type": "stream",
     "text": [
      "<class 'pandas.core.frame.DataFrame'>\n",
      "RangeIndex: 1000 entries, 0 to 999\n",
      "Data columns (total 11 columns):\n",
      "review              1000 non-null object\n",
      "rating              1000 non-null bool\n",
      "best                1000 non-null bool\n",
      "good                1000 non-null bool\n",
      "very good           1000 non-null bool\n",
      "recommend           1000 non-null bool\n",
      "great               1000 non-null bool\n",
      "excellent           1000 non-null bool\n",
      "well                1000 non-null bool\n",
      "highly recommend    1000 non-null bool\n",
      "buy                 1000 non-null bool\n",
      "dtypes: bool(10), object(1)\n",
      "memory usage: 13.7+ KB\n"
     ]
    }
   ],
   "source": [
    "sms_raw.info()"
   ]
  },
  {
   "cell_type": "code",
   "execution_count": 141,
   "metadata": {},
   "outputs": [],
   "source": [
    "data = sms_raw[keywords]\n",
    "target = sms_raw['rating']"
   ]
  },
  {
   "cell_type": "code",
   "execution_count": 142,
   "metadata": {},
   "outputs": [
    {
     "name": "stdout",
     "output_type": "stream",
     "text": [
      "Number of mislabeled points out of a total 1000 points : 404\n"
     ]
    }
   ],
   "source": [
    "from sklearn.naive_bayes import BernoulliNB\n",
    "bnb = BernoulliNB()\n",
    "bnb.fit(data, target)\n",
    "y_pred = bnb.predict(data)\n",
    "print(\"Number of mislabeled points out of a total {} points : {}\".format(\n",
    "    data.shape[0],\n",
    "    (target != y_pred).sum()\n",
    "))"
   ]
  },
  {
   "cell_type": "code",
   "execution_count": null,
   "metadata": {},
   "outputs": [],
   "source": []
  }
 ],
 "metadata": {
  "kernelspec": {
   "display_name": "Python 3",
   "language": "python",
   "name": "python3"
  },
  "language_info": {
   "codemirror_mode": {
    "name": "ipython",
    "version": 3
   },
   "file_extension": ".py",
   "mimetype": "text/x-python",
   "name": "python",
   "nbconvert_exporter": "python",
   "pygments_lexer": "ipython3",
   "version": "3.7.2"
  }
 },
 "nbformat": 4,
 "nbformat_minor": 2
}
